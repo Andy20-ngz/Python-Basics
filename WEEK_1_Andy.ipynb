{
  "nbformat": 4,
  "nbformat_minor": 0,
  "metadata": {
    "colab": {
      "provenance": [],
      "include_colab_link": true
    },
    "kernelspec": {
      "name": "python3",
      "display_name": "Python 3"
    },
    "language_info": {
      "name": "python"
    }
  },
  "cells": [
    {
      "cell_type": "markdown",
      "metadata": {
        "id": "view-in-github",
        "colab_type": "text"
      },
      "source": [
        "<a href=\"https://colab.research.google.com/github/Andy20-ngz/Python-Basics/blob/main/WEEK_1_Andy.ipynb\" target=\"_parent\"><img src=\"https://colab.research.google.com/assets/colab-badge.svg\" alt=\"Open In Colab\"/></a>"
      ]
    },
    {
      "cell_type": "markdown",
      "source": [
        "\n",
        "# Week 1: Day 1 - Introduction to Data Science\n",
        "\n",
        "**What is Data Science?**\n",
        "Data Science is a field that uses scientific methods, processes, algorithms and systems to extract knowledge and insights from structured and unstructured data.\n",
        "\n",
        "**Typical Workflow in Data Science:**\n",
        "1. Problem Understanding\n",
        "2. Data Collection\n",
        "3. Data Cleaning\n",
        "4. Exploratory Data Analysis (EDA)\n",
        "5. Modeling (Machine Learning)\n",
        "6. Evaluation\n",
        "7. Deployment\n",
        "\n",
        "**Common Roles in Data Science Teams:**\n",
        "- Data Scientist\n",
        "- Data Analyst\n",
        "- Machine Learning Engineer\n",
        "- Data Engineer\n",
        "- MLOps Engineer\n",
        "\n",
        "**Applications:**\n",
        "- Fraud detection\n",
        "- Product recommendations\n",
        "- Customer segmentation\n",
        "- Forecasting (e.g., weather, sales)\n"
      ],
      "metadata": {
        "id": "xOgftdATxjM9"
      }
    },
    {
      "cell_type": "markdown",
      "source": [
        "### 🛠️ Day 2: Introduction to Software Engineering for Data Science\n",
        "\n",
        "**Software Development Life Cycle (SDLC):**\n",
        "- Planning\n",
        "- Analysis\n",
        "- Design\n",
        "- Implementation (coding)\n",
        "- Testing\n",
        "- Deployment & Maintenance\n",
        "\n",
        "**Roles You May Work With:**\n",
        "- Software Engineers (build systems/tools)\n",
        "- DevOps Engineers (CI/CD and deployment)\n",
        "- Product Managers (define the problem and priorities)\n",
        "- Data Engineers (build data pipelines)\n",
        "\n",
        "**Version Control with Git:**\n",
        "Git helps track changes in code over time.\n",
        "\n",
        "Example Git commands:\n",
        "```bash\n",
        "\n",
        "git init\n",
        "\n",
        "git add filename.py\n",
        "\n",
        "git commit -m \"Initial commit\"\n",
        "\n",
        "git push origin main\n"
      ],
      "metadata": {
        "id": "ArUCdXW0xvL_"
      }
    },
    {
      "cell_type": "markdown",
      "source": [
        "#  Day 3: Python Crash Course - Part 1\n",
        "\n",
        "# Variables and Data Types\n",
        "-Variables are used to store information that can be used and\n",
        "changed later.\n",
        "\n",
        "-Python has different data types such as integers (int), floating point numbers (float),strings (str), and booleans (bool).\n",
        "\n",
        "# Conditional Statements\n",
        "Allow the program to make decisions based on conditions."
      ],
      "metadata": {
        "id": "U1dmy7xo1L_K"
      }
    },
    {
      "cell_type": "code",
      "source": [
        "\n",
        "\n",
        "name = \"John\"       # string\n",
        "age = 25            # integer\n",
        "height = 1.75       # float\n",
        "is_student = True   # boolean\n",
        "\n",
        "# Conditional Statements\n",
        "\n",
        "if age > 18:\n",
        "    print(\"You are an adult\")\n",
        "else:\n",
        "    print(\"You are a minor\")\n",
        "\"\"\""
      ],
      "metadata": {
        "id": "0_9t3f1X0DCM"
      },
      "execution_count": null,
      "outputs": []
    },
    {
      "cell_type": "markdown",
      "source": [
        "# 🔁 Day 4: Python Crash Course - Part 2\n",
        "\n",
        "# Loops\n",
        "Loops let us repeat actions multiple times.\n",
        "\n",
        "'for' loops are commonly used to repeat a block of code for a fixed number of times.\n",
        "\n",
        "\n",
        "\n",
        "# Functions\n",
        " Functions are blocks of code that perform a specific task.\n",
        "\n",
        " You can reuse them by calling the function with different arguments.\n",
        "\n",
        "\n",
        "\n",
        "# Lists and Dictionaries\n",
        " A list is a collection of items that can be ordered and changed.\n",
        "fruits = [\"apple\", \"banana\", \"mango\"]  \n",
        "\n",
        " A dictionary stores data in key-value pairs.\n",
        "person = {\"name\": \"John\", \"age\": 30}  \n"
      ],
      "metadata": {
        "id": "lJUH2K0w281F"
      }
    },
    {
      "cell_type": "code",
      "source": [
        "\n",
        "# Loops\n",
        "\n",
        "for i in range(3):\n",
        "    print(i)\n",
        "\n",
        "# Functions\n",
        "\n",
        "def greet(name):\n",
        "    return f\"Hello, {name}!\"\n",
        "\n",
        "print(greet(\"Alice\"))\n",
        "print(greet(\"Andy\"))\n",
        "print(greet(\"Joyeuse\"))\n",
        "\n",
        "# Lists and Dictionaries\n",
        "\n",
        "fruits = [\"apple\", \"banana\", \"mango\"]  # List of fruits\n",
        "print(fruits)\n",
        "\n",
        "\n",
        "# A dictionary stores data in key-value pairs.\n",
        "person = {\"name\": \"John\", \"age\": 30}   # Dictionary with personal information\n",
        "print(person)\n"
      ],
      "metadata": {
        "id": "XvxNyihN3pHf",
        "colab": {
          "base_uri": "https://localhost:8080/"
        },
        "outputId": "5fc57f9a-b31c-4708-f5db-f142ebf84d1b"
      },
      "execution_count": null,
      "outputs": [
        {
          "output_type": "stream",
          "name": "stdout",
          "text": [
            "0\n",
            "1\n",
            "2\n",
            "Hello, Alice!\n",
            "Hello, Andy!\n",
            "Hello, Joyeuse!\n",
            "['apple', 'banana', 'mango']\n",
            "{'name': 'John', 'age': 30}\n"
          ]
        }
      ]
    },
    {
      "cell_type": "markdown",
      "source": [
        "# 🗂️ Day 5: Python Crash Course - Part 3\n",
        "\n",
        "#File Handling\n",
        " Python can create, read, write, and close files using built-in functions.\n",
        "\n",
        " The 'with' statement is used to open a file safely. It automatically closes the file afterward.\n",
        "\n",
        " The mode \"w\" means we are opening the file for writing (it will overwrite the file if it exists).\n",
        "\n",
        "\n",
        "# Modules and Error Handling\n",
        "\n",
        " Modules are files containing Python code (functions, variables, classes) that you can import and use.\n",
        "\n",
        " Python has many built-in modules like 'math', which helps with mathematical operations.\n",
        "\n",
        "\n",
        "\n",
        "# Error Handling\n",
        " Sometimes your code may run into errors like dividing by zero or opening a file that doesn't exist.\n",
        "\n",
        " To prevent the program from crashing, we can use try-except blocks to catch and handle these errors.\n",
        "\n"
      ],
      "metadata": {
        "id": "8yeTOiuc6wie"
      }
    },
    {
      "cell_type": "code",
      "source": [
        "\n",
        "# File Handling\n",
        "\n",
        "name\n",
        "with open(\"example.txt\", \"w\") as file:\n",
        "    file.write(\"Hello, file!\")  # This writes the text into the file\n",
        "\n",
        "# Modules\n",
        "\n",
        "\n",
        "\n",
        "import math\n",
        "\n",
        "# Error Handling\n",
        "\n",
        "\n",
        "try:\n",
        "    print(math.sqrt(30))   # This will print 4.0\n",
        "    print(10 / 2)          # This will raise a ZeroDivisionError\n",
        "except ZeroDivisionError:\n",
        "    print(\"Cannot do it\")  # This message is printed instead of crashing\n"
      ],
      "metadata": {
        "id": "n2fCI8TF_JRc",
        "colab": {
          "base_uri": "https://localhost:8080/"
        },
        "outputId": "da7b5aef-6a50-4de2-c028-24e85b42a765"
      },
      "execution_count": null,
      "outputs": [
        {
          "output_type": "stream",
          "name": "stdout",
          "text": [
            "5.477225575051661\n",
            "5.0\n"
          ]
        }
      ]
    },
    {
      "cell_type": "code",
      "source": [],
      "metadata": {
        "id": "I88rcFt6f6RA"
      },
      "execution_count": null,
      "outputs": []
    },
    {
      "cell_type": "code",
      "source": [
        "for i in range(1,4):\n",
        "  print (i)"
      ],
      "metadata": {
        "colab": {
          "base_uri": "https://localhost:8080/",
          "height": 106
        },
        "id": "ZS1AFRvzf3Ja",
        "outputId": "da169718-1ed5-428d-f17b-4946b3b2885c"
      },
      "execution_count": null,
      "outputs": [
        {
          "output_type": "error",
          "ename": "SyntaxError",
          "evalue": "expected ':' (ipython-input-3-1310164572.py, line 1)",
          "traceback": [
            "\u001b[0;36m  File \u001b[0;32m\"/tmp/ipython-input-3-1310164572.py\"\u001b[0;36m, line \u001b[0;32m1\u001b[0m\n\u001b[0;31m    for i in range(1,4)\u001b[0m\n\u001b[0m                       ^\u001b[0m\n\u001b[0;31mSyntaxError\u001b[0m\u001b[0;31m:\u001b[0m expected ':'\n"
          ]
        }
      ]
    },
    {
      "cell_type": "code",
      "source": [
        "def Welcome():\n",
        "  print(\"Welcome to Data science\")\n",
        "  # return Welcome\n",
        "\n",
        "Welcome()"
      ],
      "metadata": {
        "colab": {
          "base_uri": "https://localhost:8080/"
        },
        "id": "_woqghSnf9MG",
        "outputId": "0acb3cba-5fc0-4120-cb31-ad1c2a89d1f3"
      },
      "execution_count": null,
      "outputs": [
        {
          "output_type": "stream",
          "name": "stdout",
          "text": [
            "Welcome to Data science\n"
          ]
        }
      ]
    },
    {
      "cell_type": "code",
      "source": [
        "def square(x):\n",
        "  return x * x\n",
        "print(square(4))"
      ],
      "metadata": {
        "colab": {
          "base_uri": "https://localhost:8080/"
        },
        "id": "PktsHZKjh1Cr",
        "outputId": "3832611b-0be1-48bc-de3a-adc9d9adaaa3"
      },
      "execution_count": null,
      "outputs": [
        {
          "output_type": "stream",
          "name": "stdout",
          "text": [
            "16\n"
          ]
        }
      ]
    },
    {
      "cell_type": "code",
      "source": [
        "colors= [\"red\",\"green\",\"blue\"]\n",
        "print(colors[1])"
      ],
      "metadata": {
        "colab": {
          "base_uri": "https://localhost:8080/"
        },
        "id": "4nTGBtimjrXf",
        "outputId": "fc3481be-62f7-4e3f-b744-3338f4f285dc"
      },
      "execution_count": null,
      "outputs": [
        {
          "output_type": "stream",
          "name": "stdout",
          "text": [
            "green\n"
          ]
        }
      ]
    },
    {
      "cell_type": "code",
      "source": [
        "person= {\"name\":\"Andy\",\"age\":15}\n",
        "print(person[\"name\"])"
      ],
      "metadata": {
        "colab": {
          "base_uri": "https://localhost:8080/"
        },
        "id": "lxW_Mdupl8um",
        "outputId": "898a8912-1025-44ec-c908-6baacc21c92e"
      },
      "execution_count": null,
      "outputs": [
        {
          "output_type": "stream",
          "name": "stdout",
          "text": [
            "Andy\n"
          ]
        }
      ]
    },
    {
      "cell_type": "code",
      "source": [
        "with open(\"text.txt\", \"w\")as file:\n",
        "  file.write(\"And will be a great data scientist in the world\")"
      ],
      "metadata": {
        "id": "NnNx1H-Uoa-o"
      },
      "execution_count": null,
      "outputs": []
    },
    {
      "cell_type": "code",
      "source": [
        "import math\n",
        "print(math.sqrt(25))"
      ],
      "metadata": {
        "colab": {
          "base_uri": "https://localhost:8080/"
        },
        "id": "Q7PxP1CApJxq",
        "outputId": "79b3f21e-caf1-4291-dcec-088647afb199"
      },
      "execution_count": null,
      "outputs": [
        {
          "output_type": "stream",
          "name": "stdout",
          "text": [
            "5.0\n"
          ]
        }
      ]
    },
    {
      "cell_type": "code",
      "source": [
        "try:\n",
        "  print(5 / 0)\n",
        "except ZeroDivisionError:\n",
        "  print(\"Error: division by zero\")"
      ],
      "metadata": {
        "colab": {
          "base_uri": "https://localhost:8080/"
        },
        "id": "uy6CM8dtpIRO",
        "outputId": "d6764b09-e9c5-4fcf-d192-360f14c85aaf"
      },
      "execution_count": null,
      "outputs": [
        {
          "output_type": "stream",
          "name": "stdout",
          "text": [
            "Error: division by zero\n"
          ]
        }
      ]
    },
    {
      "cell_type": "code",
      "source": [
        "name = input(\"write your student's name\")\n",
        "marks = float(input(\"write your student's marks\"))\n",
        "if marks >= 85:\n",
        "    grade = \"excellent\"\n",
        "if marks >= 75:\n",
        "  grade = \"very good\"\n",
        "if marks >= 65:\n",
        "  grade = \"good\"\n",
        "if marks >= 50:\n",
        "  grade = \"average\"\n",
        "else:\n",
        "  grade = \"you can do better\"\n",
        "print (f\"{name}'s performance:{grade}\")"
      ],
      "metadata": {
        "id": "dJji8Gk3xlaE"
      },
      "execution_count": null,
      "outputs": []
    },
    {
      "cell_type": "code",
      "source": [],
      "metadata": {
        "id": "M0Tdi7KuxZWQ"
      },
      "execution_count": null,
      "outputs": []
    }
  ]
}